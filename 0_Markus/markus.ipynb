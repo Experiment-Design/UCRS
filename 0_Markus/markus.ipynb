{
 "cells": [
  {
   "cell_type": "code",
   "execution_count": null,
   "metadata": {},
   "outputs": [],
   "source": []
  },
  {
   "cell_type": "markdown",
   "metadata": {},
   "source": [
    "## Reproducability???\n",
    "\n",
    "- they claim that they have used python 3.7.3 in conjunction with pytorch 1.4.0, \n",
    "- however when requesting for pytorch 1.4.0, it downgrades the python interpreter from 3.7.3 to 3.7.1 "
   ]
  }
 ],
 "metadata": {
  "kernelspec": {
   "display_name": "base",
   "language": "python",
   "name": "python3"
  },
  "language_info": {
   "name": "python",
   "version": "3.7.3"
  }
 },
 "nbformat": 4,
 "nbformat_minor": 2
}
